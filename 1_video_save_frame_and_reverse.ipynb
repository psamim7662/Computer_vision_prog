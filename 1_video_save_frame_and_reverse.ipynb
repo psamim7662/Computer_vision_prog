{
 "cells": [
  {
   "cell_type": "code",
   "execution_count": 2,
   "metadata": {},
   "outputs": [],
   "source": [
    "import cv2\n",
    "import numpy as np"
   ]
  },
  {
   "cell_type": "code",
   "execution_count": 3,
   "metadata": {},
   "outputs": [],
   "source": [
    "cap=cv2.VideoCapture(\"/CoverImages/Cooking.MP4\")\n"
   ]
  },
  {
   "cell_type": "code",
   "execution_count": 6,
   "metadata": {},
   "outputs": [],
   "source": [
    "count=1\n",
    "ret,frame=cap.read()\n",
    "while ret:\n",
    "    cv2.imwrite(f\"./saved_frame/frame{count}.jpg\",frame)\n",
    "    count+=1\n",
    "    cv2.imshow(\"frame\",frame)\n",
    "    ret,frame=cap.read()\n",
    "    if cv2.waitKey(1)==27:\n",
    "        break\n",
    "cap.release()\n",
    "cv2.destroyAllWindows()\n",
    "count-=1\n",
    "while count!=0:\n",
    "    img=cv2.imread(f\"./saved_frame/frame{count}.jpg\")\n",
    "    cv2.imshow(\"Reverse Video\",img)\n",
    "    count-=1\n",
    "    if cv2.waitKey(1)==27:\n",
    "        break\n",
    "cv2.destroyAllWindows()"
   ]
  },
  {
   "cell_type": "code",
   "execution_count": null,
   "metadata": {},
   "outputs": [],
   "source": []
  }
 ],
 "metadata": {
  "kernelspec": {
   "display_name": "Python 3.10.8 64-bit (microsoft store)",
   "language": "python",
   "name": "python3"
  },
  "language_info": {
   "codemirror_mode": {
    "name": "ipython",
    "version": 3
   },
   "file_extension": ".py",
   "mimetype": "text/x-python",
   "name": "python",
   "nbconvert_exporter": "python",
   "pygments_lexer": "ipython3",
   "version": "3.12.1"
  },
  "orig_nbformat": 4,
  "vscode": {
   "interpreter": {
    "hash": "a8fce425ec04ce098889a7b456cfd25aeb22f7524c41fa0e52b84291bf9e447c"
   }
  }
 },
 "nbformat": 4,
 "nbformat_minor": 2
}
