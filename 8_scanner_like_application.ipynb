{
 "cells": [
  {
   "attachments": {},
   "cell_type": "markdown",
   "metadata": {},
   "source": [
    "<b>8_Scanner_like_application</b>"
   ]
  },
  {
   "cell_type": "code",
   "execution_count": 1,
   "metadata": {},
   "outputs": [],
   "source": [
    "import cv2\n",
    "import numpy as np\n",
    "import matplotlib.pyplot as plt\n",
    "import imutils\n",
    "# from imutils import contours\n",
    "from imutils.perspective import four_point_transform"
   ]
  },
  {
   "cell_type": "code",
   "execution_count": 2,
   "metadata": {},
   "outputs": [],
   "source": [
    "im=cv2.imread(\"./scanner_doc.jpg\")\n",
    "img=im.copy()\n",
    "blur=cv2.GaussianBlur(im,(5,5),0)\n",
    "edge=cv2.Canny(blur,50,180)\n",
    "cv2.imshow(\"original\",im)\n",
    "cv2.imshow(\"edge\",edge)\n",
    "cv2.waitKey(0)\n",
    "cv2.destroyAllWindows()"
   ]
  },
  {
   "cell_type": "code",
   "execution_count": 3,
   "metadata": {},
   "outputs": [
    {
     "data": {
      "text/plain": [
       "array([[[128, 137, 146],\n",
       "        [ 73,  88, 104],\n",
       "        [ 62,  90, 120],\n",
       "        ...,\n",
       "        [ 77, 112, 146],\n",
       "        [ 72, 109, 143],\n",
       "        [ 69, 106, 140]],\n",
       "\n",
       "       [[125, 134, 143],\n",
       "        [ 72,  87, 103],\n",
       "        [ 63,  91, 121],\n",
       "        ...,\n",
       "        [ 78, 113, 147],\n",
       "        [ 74, 111, 145],\n",
       "        [ 71, 108, 142]],\n",
       "\n",
       "       [[125, 134, 143],\n",
       "        [ 73,  88, 104],\n",
       "        [ 64,  92, 122],\n",
       "        ...,\n",
       "        [ 80, 115, 149],\n",
       "        [ 75, 112, 146],\n",
       "        [ 72, 109, 143]],\n",
       "\n",
       "       ...,\n",
       "\n",
       "       [[125, 134, 143],\n",
       "        [ 70,  85, 101],\n",
       "        [ 60,  88, 118],\n",
       "        ...,\n",
       "        [ 57,  89, 124],\n",
       "        [ 54,  86, 121],\n",
       "        [ 51,  83, 118]],\n",
       "\n",
       "       [[126, 135, 144],\n",
       "        [ 70,  85, 101],\n",
       "        [ 59,  87, 117],\n",
       "        ...,\n",
       "        [ 56,  88, 123],\n",
       "        [ 53,  85, 120],\n",
       "        [ 51,  83, 118]],\n",
       "\n",
       "       [[126, 135, 144],\n",
       "        [ 70,  85, 101],\n",
       "        [ 59,  87, 117],\n",
       "        ...,\n",
       "        [ 55,  87, 122],\n",
       "        [ 53,  85, 120],\n",
       "        [ 52,  84, 119]]], dtype=uint8)"
      ]
     },
     "execution_count": 3,
     "metadata": {},
     "output_type": "execute_result"
    }
   ],
   "source": [
    "contours,_=cv2.findContours(edge,cv2.RETR_LIST,cv2.CHAIN_APPROX_SIMPLE)\n",
    "contours=sorted(contours,key=cv2.contourArea,reverse=True)\n",
    "cv2.drawContours(im,contours,-1,(0,255,0),1)\n",
    "# cv2.imshow(\"All contours\",im)\n",
    "# cv2.waitKey(0)\n",
    "# cv2.destroyAllWindows()"
   ]
  },
  {
   "cell_type": "code",
   "execution_count": 4,
   "metadata": {},
   "outputs": [
    {
     "data": {
      "text/plain": [
       "<matplotlib.image.AxesImage at 0x2e29f5419f0>"
      ]
     },
     "execution_count": 4,
     "metadata": {},
     "output_type": "execute_result"
    },
    {
     "data": {
      "image/png": "[encoded data removed]",
      "text/plain": [
       "<Figure size 720x720 with 1 Axes>"
      ]
     },
     "metadata": {
      "needs_background": "light"
     },
     "output_type": "display_data"
    }
   ],
   "source": [
    "for contour in contours:\n",
    "    border=0.05*cv2.arcLength(contour,True)\n",
    "    approx_img=cv2.approxPolyDP(contour,border,True)\n",
    "    if len(approx_img)==4:\n",
    "        count=approx_img\n",
    "        break\n",
    "final_img=four_point_transform(img,count.reshape(4,2))\n",
    "final_img=cv2.resize(final_img,(600,800))\n",
    "# final_img=cv2.equalizeHist(final_img)\n",
    "final_img=cv2.cvtColor(final_img,cv2.COLOR_BGR2GRAY)\n",
    "_,final_img=cv2.threshold(final_img,160,255,cv2.THRESH_BINARY)\n",
    "plt.figure(figsize=(10,10))\n",
    "plt.subplot(1,2,1)\n",
    "plt.imshow(final_img,cmap='gray')"
   ]
  }
 ],
 "metadata": {
  "kernelspec": {
   "display_name": "Python 3.10.8 64-bit (microsoft store)",
   "language": "python",
   "name": "python3"
  },
  "language_info": {
   "codemirror_mode": {
    "name": "ipython",
    "version": 3
   },
   "file_extension": ".py",
   "mimetype": "text/x-python",
   "name": "python",
   "nbconvert_exporter": "python",
   "pygments_lexer": "ipython3",
   "version": "3.10.9"
  },
  "orig_nbformat": 4,
  "vscode": {
   "interpreter": {
    "hash": "a8fce425ec04ce098889a7b456cfd25aeb22f7524c41fa0e52b84291bf9e447c"
   }
  }
 },
 "nbformat": 4,
 "nbformat_minor": 2
}
