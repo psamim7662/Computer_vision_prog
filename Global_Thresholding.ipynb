{
 "cells": [
  {
   "cell_type": "code",
   "execution_count": 6,
   "metadata": {},
   "outputs": [],
   "source": [
    "import cv2\n",
    "import numpy as np\n",
    "import matplotlib.pyplot as plt\n"
   ]
  },
  {
   "cell_type": "code",
   "execution_count": 8,
   "metadata": {},
   "outputs": [],
   "source": [
    "image_path = \"CoverImages/lena.tiff\"\n",
    "img= cv2.imread(image_path, cv2.IMREAD_GRAYSCALE)\n"
   ]
  },
  {
   "cell_type": "code",
   "execution_count": 3,
   "metadata": {},
   "outputs": [],
   "source": [
    "\n",
    "hist, bins = np.histogram(image, bins=256, range=[0, 256])\n",
    "total_pixels = image.shape[0] * image.shape[1]"
   ]
  },
  {
   "cell_type": "code",
   "execution_count": 4,
   "metadata": {},
   "outputs": [],
   "source": [
    "initial_threshold = 128\n"
   ]
  },
  {
   "cell_type": "code",
   "execution_count": 5,
   "metadata": {},
   "outputs": [
    {
     "ename": "KeyboardInterrupt",
     "evalue": "",
     "output_type": "error",
     "traceback": [
      "\u001b[1;31m---------------------------------------------------------------------------\u001b[0m",
      "\u001b[1;31mKeyboardInterrupt\u001b[0m                         Traceback (most recent call last)",
      "Cell \u001b[1;32mIn[5], line 3\u001b[0m\n\u001b[0;32m      1\u001b[0m \u001b[38;5;28;01mwhile\u001b[39;00m \u001b[38;5;28;01mTrue\u001b[39;00m:\n\u001b[0;32m      2\u001b[0m     \u001b[38;5;66;03m# means\u001b[39;00m\n\u001b[1;32m----> 3\u001b[0m     class1_mean \u001b[38;5;241m=\u001b[39m np\u001b[38;5;241m.\u001b[39msum(\u001b[43mnp\u001b[49m\u001b[38;5;241;43m.\u001b[39;49m\u001b[43marange\u001b[49m\u001b[43m(\u001b[49m\u001b[43minitial_threshold\u001b[49m\u001b[43m)\u001b[49m \u001b[38;5;241m*\u001b[39m hist[:initial_threshold]) \u001b[38;5;241m/\u001b[39m np\u001b[38;5;241m.\u001b[39msum(hist[:initial_threshold])\n\u001b[0;32m      4\u001b[0m     class2_mean \u001b[38;5;241m=\u001b[39m np\u001b[38;5;241m.\u001b[39msum(np\u001b[38;5;241m.\u001b[39marange(initial_threshold, \u001b[38;5;241m256\u001b[39m) \u001b[38;5;241m*\u001b[39m hist[initial_threshold:]) \u001b[38;5;241m/\u001b[39m np\u001b[38;5;241m.\u001b[39msum(hist[initial_threshold:])\u001b[38;5;66;03m# Update threshold as the average of class means\u001b[39;00m\n\u001b[0;32m      5\u001b[0m     new_threshold \u001b[38;5;241m=\u001b[39m \u001b[38;5;28mint\u001b[39m((class1_mean \u001b[38;5;241m+\u001b[39m class2_mean) \u001b[38;5;241m/\u001b[39m \u001b[38;5;241m2\u001b[39m)\n",
      "\u001b[1;31mKeyboardInterrupt\u001b[0m: "
     ]
    }
   ],
   "source": [
    "while True:\n",
    "    # means\n",
    "    class1_mean = np.sum(np.arange(initial_threshold) * hist[:initial_threshold]) / np.sum(hist[:initial_threshold])\n",
    "    class2_mean = np.sum(np.arange(initial_threshold, 256) * hist[initial_threshold:]) / np.sum(hist[initial_threshold:])\n",
    "    # Update threshold as the average of class means\n",
    "    new_threshold = int((class1_mean + class2_mean) / 2)\n",
    "    # Check for convergence\n",
    "    if new_threshold == initial_threshold:\n",
    "       break\n",
    "# Apply thresholding\n",
    "binary_image = (image > new_threshold).astype(np.uint8) * 255"
   ]
  },
  {
   "cell_type": "code",
   "execution_count": null,
   "metadata": {},
   "outputs": [],
   "source": [
    "plt.figure(figsize=(10, 5))\n",
    "plt.subplot(1, 2, 1)\n",
    "plt.imshow(image, cmap='gray')\n",
    "plt.title(\"Original Image\")\n",
    "plt.axis('off')\n",
    "\n",
    "plt.subplot(1, 2, 2)\n",
    "plt.imshow(binary_image, cmap='gray')\n",
    "plt.title(\"Basic Global Thresholding\")\n",
    "plt.axis('off')\n",
    "\n",
    "plt.show()"
   ]
  },
  {
   "cell_type": "code",
   "execution_count": 9,
   "metadata": {},
   "outputs": [],
   "source": [
    "def global_threshold(image, thres_value, val_high, val_low):\n",
    "    img = image.copy()\n",
    "    for i in range(image.shape[0]):\n",
    "        for j in range(image.shape[1]):\n",
    "            if image[i,j] > thres_value:\n",
    "                img[i,j] = val_high\n",
    "            else:\n",
    "                img[i,j] = val_low\n",
    "    return img"
   ]
  },
  {
   "cell_type": "code",
   "execution_count": 11,
   "metadata": {},
   "outputs": [],
   "source": [
    "image_path = \"CoverImages/lena.tiff\"\n",
    "img= cv2.imread(image_path, cv2.IMREAD_GRAYSCALE)\n",
    "# ret, thresh = cv2.threshold(img,75,255,cv2.THRESH_BINARY)"
   ]
  },
  {
   "cell_type": "code",
   "execution_count": 13,
   "metadata": {},
   "outputs": [],
   "source": [
    "def thres_finder1(img, thres=20,delta_T=1.0):\n",
    "    \n",
    "    # Step-2: Divide the images in two parts\n",
    "    x_low, y_low = np.where(img<=thres)\n",
    "    x_high, y_high = np.where(img>thres)\n",
    "    \n",
    "    # Step-3: Find the mean of two parts\n",
    "    mean_low = np.mean(img[x_low,y_low])\n",
    "    mean_high = np.mean(img[x_high,y_high])\n",
    "    \n",
    "    # Step-4: Calculate the new threshold\n",
    "    new_thres = (mean_low + mean_high)/2\n",
    "    \n",
    "    # Step-5: Stopping criteria, otherwise iterate\n",
    "    if abs(new_thres-thres)< delta_T:\n",
    "        return new_thres\n",
    "    else:\n",
    "        return thres_finder1(img, thres=new_thres,delta_T=1.0)"
   ]
  },
  {
   "cell_type": "code",
   "execution_count": 14,
   "metadata": {},
   "outputs": [
    {
     "data": {
      "text/plain": [
       "27"
      ]
     },
     "execution_count": 14,
     "metadata": {},
     "output_type": "execute_result"
    },
    {
     "ename": "",
     "evalue": "",
     "output_type": "error",
     "traceback": [
      "\u001b[1;31mThe Kernel crashed while executing code in the current cell or a previous cell. \n",
      "\u001b[1;31mPlease review the code in the cell(s) to identify a possible cause of the failure. \n",
      "\u001b[1;31mClick <a href='https://aka.ms/vscodeJupyterKernelCrash'>here</a> for more info. \n",
      "\u001b[1;31mView Jupyter <a href='command:jupyter.viewOutput'>log</a> for further details."
     ]
    }
   ],
   "source": [
    "import cv2\n",
    "# Load an image in the greyscale\n",
    "img = cv2.imread(\"CoverImages/lena.tiff\",cv2.IMREAD_GRAYSCALE)\n",
    "# apply threshold finder\n",
    "vv1 = thres_finder1(img, thres=30,delta_T=1.0)\n",
    "# threshold the image\n",
    "ret, thresh = cv2.threshold(img,vv1,255,cv2.THRESH_BINARY)\n",
    "# Display the image side by side\n",
    "out = cv2.hconcat([img,thresh])\n",
    "cv2.imshow('threshold',out)\n",
    "cv2.waitKey(0)"
   ]
  }
 ],
 "metadata": {
  "kernelspec": {
   "display_name": "Python 3",
   "language": "python",
   "name": "python3"
  },
  "language_info": {
   "codemirror_mode": {
    "name": "ipython",
    "version": 3
   },
   "file_extension": ".py",
   "mimetype": "text/x-python",
   "name": "python",
   "nbconvert_exporter": "python",
   "pygments_lexer": "ipython3",
   "version": "3.12.1"
  }
 },
 "nbformat": 4,
 "nbformat_minor": 2
}
