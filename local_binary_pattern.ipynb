{
 "cells": [
  {
   "cell_type": "markdown",
   "metadata": {},
   "source": [
    "local binary pattern"
   ]
  },
  {
   "cell_type": "code",
   "execution_count": 1,
   "metadata": {},
   "outputs": [],
   "source": [
    "import cv2\n",
    "import numpy as np\n",
    "import matplotlib.pyplot as plt"
   ]
  },
  {
   "cell_type": "code",
   "execution_count": 3,
   "metadata": {},
   "outputs": [
    {
     "ename": "IndexError",
     "evalue": "list index out of range",
     "output_type": "error",
     "traceback": [
      "\u001b[1;31m---------------------------------------------------------------------------\u001b[0m",
      "\u001b[1;31mIndexError\u001b[0m                                Traceback (most recent call last)",
      "Cell \u001b[1;32mIn[3], line 26\u001b[0m\n\u001b[0;32m     24\u001b[0m out\u001b[38;5;241m=\u001b[39m\u001b[38;5;241m0\u001b[39m\n\u001b[0;32m     25\u001b[0m \u001b[38;5;28;01mfor\u001b[39;00m k \u001b[38;5;129;01min\u001b[39;00m \u001b[38;5;28mrange\u001b[39m (\u001b[38;5;241m8\u001b[39m):\n\u001b[1;32m---> 26\u001b[0m  out\u001b[38;5;241m=\u001b[39mout\u001b[38;5;241m+\u001b[39m\u001b[43mar\u001b[49m\u001b[43m[\u001b[49m\u001b[43mk\u001b[49m\u001b[43m]\u001b[49m\u001b[38;5;241m*\u001b[39mb[k]\n\u001b[0;32m     27\u001b[0m  re[i][j]\u001b[38;5;241m=\u001b[39mout\n\u001b[0;32m     28\u001b[0m  ar\u001b[38;5;241m.\u001b[39mclear()\n",
      "\u001b[1;31mIndexError\u001b[0m: list index out of range"
     ]
    }
   ],
   "source": [
    "import cv2\n",
    "import matplotlib.pyplot as plt\n",
    "import numpy as np\n",
    "im=cv2.imread(\"CoverImages/lena.tiff\",0)\n",
    "ar=[]\n",
    "re=np.zeros((im.shape[0],im.shape[1]),dtype='uint8')\n",
    "def check(a,b):\n",
    " if a>b:\n",
    "  return 1\n",
    " else:\n",
    "  return 0\n",
    "for i in range (1,im.shape[0]-1):\n",
    " for j in range (1,im.shape[1]-1):\n",
    "  m=im[i][j]\n",
    "  b=[1,2,4,8,16,32,64,128]\n",
    "  ar.append(check(im[i-1][j-1],m))\n",
    "  ar.append(check(im[i-1][j],m))\n",
    "  ar.append(check(im[i-1][j+1],m))\n",
    "  ar.append(check(im[i][j-1],m))\n",
    "  ar.append(check(im[i][j+1],m))\n",
    "  ar.append(check(im[i+1][j-1],m))\n",
    "  ar.append(check(im[i+1][j],m))\n",
    "  ar.append(check(im[i+1][j+1],m))\n",
    "  out=0\n",
    "  for k in range (8):\n",
    "   out=out+ar[k]*b[k]\n",
    "   re[i][j]=out\n",
    "   ar.clear()\n",
    "plt.subplot(1,2,1)\n",
    "plt.imshow(im,cmap='gray')\n",
    "plt.subplot(1,2,2)\n",
    "plt.imshow(re,cmap='gray')\n",
    "plt.show()"
   ]
  },
  {
   "cell_type": "code",
   "execution_count": 3,
   "metadata": {},
   "outputs": [],
   "source": [
    "image=[\"airplane.tiff\",\"baboon.tiff\",\"Barbara.tif\",\"elaine.tiff\",\"fishingboat.tiff\",\"house.tiff\",\"lena.tiff\",\"peeper.tiff\",\"Goldhill.tif\",\"sailboat.tiff\",\"splash.tiff\",\"tank.tiff\"]\n",
    "n=len(image)"
   ]
  },
  {
   "cell_type": "code",
   "execution_count": 7,
   "metadata": {},
   "outputs": [
    {
     "name": "stdout",
     "output_type": "stream",
     "text": [
      "['CoverImages\\\\airplane.tiff', 'CoverImages\\\\baboon.tiff', 'CoverImages\\\\Barbara.tif', 'CoverImages\\\\elaine.tiff', 'CoverImages\\\\fishingboat.tiff', 'CoverImages\\\\house.tiff', 'CoverImages\\\\lena.tiff', 'CoverImages\\\\peeper.tiff', 'CoverImages\\\\Goldhill.tif', 'CoverImages\\\\sailboat.tiff', 'CoverImages\\\\splash.tiff', 'CoverImages\\\\tank.tiff']\n"
     ]
    }
   ],
   "source": [
    "import os\n",
    "\n",
    "image= [\n",
    "    \"airplane.tiff\", \"baboon.tiff\", \"Barbara.tif\", \"elaine.tiff\", \n",
    "    \"fishingboat.tiff\", \"house.tiff\", \"lena.tiff\", \"peeper.tiff\", \n",
    "    \"Goldhill.tif\", \"sailboat.tiff\", \"splash.tiff\", \"tank.tiff\"\n",
    "]\n",
    "folder_path = \"CoverImages\"\n",
    "\n",
    "image_paths = [os.path.join(folder_path, filename) for filename in image]\n",
    "\n",
    "print(image_paths)\n"
   ]
  },
  {
   "cell_type": "code",
   "execution_count": 8,
   "metadata": {},
   "outputs": [],
   "source": [
    "def checkBin(a,b):\n",
    "    if(a<b):\n",
    "        return 0\n",
    "    else:\n",
    "        return 1"
   ]
  },
  {
   "cell_type": "code",
   "execution_count": 6,
   "metadata": {},
   "outputs": [
    {
     "name": "stdout",
     "output_type": "stream",
     "text": [
      "Error: Unable to read image airplane.tiff\n",
      "Error: Unable to read image baboon.tiff\n",
      "Error: Unable to read image Barbara.tif\n",
      "Error: Unable to read image elaine.tiff\n",
      "Error: Unable to read image fishingboat.tiff\n",
      "Error: Unable to read image house.tiff\n",
      "Error: Unable to read image lena.tiff\n",
      "Error: Unable to read image peeper.tiff\n",
      "Error: Unable to read image Goldhill.tif\n",
      "Error: Unable to read image sailboat.tiff\n",
      "Error: Unable to read image splash.tiff\n",
      "Error: Unable to read image tank.tiff\n"
     ]
    }
   ],
   "source": []
  },
  {
   "cell_type": "code",
   "execution_count": 11,
   "metadata": {},
   "outputs": [
    {
     "ename": "TypeError",
     "evalue": "'NoneType' object is not iterable",
     "output_type": "error",
     "traceback": [
      "\u001b[1;31m---------------------------------------------------------------------------\u001b[0m",
      "\u001b[1;31mTypeError\u001b[0m                                 Traceback (most recent call last)",
      "Cell \u001b[1;32mIn[11], line 2\u001b[0m\n\u001b[0;32m      1\u001b[0m bin_bit\u001b[38;5;241m=\u001b[39m[\u001b[38;5;241m128\u001b[39m,\u001b[38;5;241m64\u001b[39m,\u001b[38;5;241m32\u001b[39m,\u001b[38;5;241m16\u001b[39m,\u001b[38;5;241m8\u001b[39m,\u001b[38;5;241m4\u001b[39m,\u001b[38;5;241m2\u001b[39m,\u001b[38;5;241m1\u001b[39m]\n\u001b[1;32m----> 2\u001b[0m \u001b[38;5;28;43;01mfor\u001b[39;49;00m\u001b[43m \u001b[49m\u001b[43ml\u001b[49m\u001b[43m \u001b[49m\u001b[38;5;129;43;01min\u001b[39;49;00m\u001b[43m \u001b[49m\u001b[43mimage\u001b[49m\u001b[43m:\u001b[49m\n\u001b[0;32m      3\u001b[0m \u001b[43m    \u001b[49m\u001b[43mimage\u001b[49m\u001b[38;5;241;43m=\u001b[39;49m\u001b[43mcv2\u001b[49m\u001b[38;5;241;43m.\u001b[39;49m\u001b[43mimread\u001b[49m\u001b[43m(\u001b[49m\u001b[43ml\u001b[49m\u001b[43m,\u001b[49m\u001b[38;5;241;43m0\u001b[39;49m\u001b[43m)\u001b[49m\n\u001b[0;32m      4\u001b[0m \u001b[43m    \u001b[49m\u001b[43m(\u001b[49m\u001b[43mrow\u001b[49m\u001b[43m,\u001b[49m\u001b[43mcol\u001b[49m\u001b[43m)\u001b[49m\u001b[38;5;241;43m=\u001b[39;49m\u001b[43mimage\u001b[49m\u001b[38;5;241;43m.\u001b[39;49m\u001b[43mshape\u001b[49m\u001b[43m[\u001b[49m\u001b[43m:\u001b[49m\u001b[38;5;241;43m2\u001b[39;49m\u001b[43m]\u001b[49m\n",
      "\u001b[1;31mTypeError\u001b[0m: 'NoneType' object is not iterable"
     ]
    }
   ],
   "source": [
    "bin_bit=[128,64,32,16,8,4,2,1]\n",
    "for l in image:\n",
    "    image=cv2.imread(l,0)\n",
    "    row = image.shape[0]\n",
    "    col = image.shape[1]\n",
    "    #(row,col)=image.shape[:2]\n",
    "    img=image.copy()\n",
    "    for i in range(1,row-1):\n",
    "        for j in range(1,col-1):\n",
    "            temp_arr=[]\n",
    "            temp_arr.append(checkBin(img[i-1,j-1],img[i][j]))\n",
    "            temp_arr.append(checkBin(img[i-1,j],img[i][j]))\n",
    "            temp_arr.append(checkBin(img[i,j-1],img[i][j]))\n",
    "            temp_arr.append(checkBin(img[i,j+1],img[i][j]))\n",
    "            temp_arr.append(checkBin(img[i-1,j+1],img[i][j]))\n",
    "            temp_arr.append(checkBin(img[i+1,j-1],img[i][j]))\n",
    "            temp_arr.append(checkBin(img[i+1,j],img[i][j]))\n",
    "            temp_arr.append(checkBin(img[i+1,j+1],img[i][j]))\n",
    "            val=0\n",
    "            for k in range(8):\n",
    "                val+=temp_arr[k]*bin_bit[k]\n",
    "            img[i][j]=val\n",
    "\n",
    "    img=cv2.cvtColor(img,cv2.COLOR_BGR2RGB)\n",
    "    im=cv2.cvtColor(im,cv2.COLOR_BGR2RGB)\n",
    "    plt.figure(figsize=(10,10))\n",
    "    plt.subplot(2,2,1)\n",
    "    plt.title(\"Original\")\n",
    "    plt.imshow(img)\n",
    "    plt.subplot(2,2,2)\n",
    "    plt.title(\"LBP\")\n",
    "    plt.imshow(im)\n",
    "    plt.show()"
   ]
  }
 ],
 "metadata": {
  "kernelspec": {
   "display_name": "Python 3.10.6 64-bit (microsoft store)",
   "language": "python",
   "name": "python3"
  },
  "language_info": {
   "codemirror_mode": {
    "name": "ipython",
    "version": 3
   },
   "file_extension": ".py",
   "mimetype": "text/x-python",
   "name": "python",
   "nbconvert_exporter": "python",
   "pygments_lexer": "ipython3",
   "version": "3.12.1"
  },
  "orig_nbformat": 4,
  "vscode": {
   "interpreter": {
    "hash": "a8fce425ec04ce098889a7b456cfd25aeb22f7524c41fa0e52b84291bf9e447c"
   }
  }
 },
 "nbformat": 4,
 "nbformat_minor": 2
}
