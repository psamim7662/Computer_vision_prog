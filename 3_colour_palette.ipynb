{
 "cells": [
  {
   "cell_type": "code",
   "execution_count": null,
   "metadata": {},
   "outputs": [],
   "source": [
    "import cv2\n",
    "import numpy as np\n",
    "import matplotlib.pyplot as plt"
   ]
  },
  {
   "cell_type": "code",
   "execution_count": null,
   "metadata": {},
   "outputs": [],
   "source": [
    "def nothing(x):\n",
    "    return"
   ]
  },
  {
   "cell_type": "code",
   "execution_count": null,
   "metadata": {},
   "outputs": [],
   "source": [
    "im=np.zeros((1080,768,3),\"uint8\")\n",
    "im[:,:]=(0,0,255)"
   ]
  },
  {
   "cell_type": "code",
   "execution_count": null,
   "metadata": {},
   "outputs": [],
   "source": [
    "cv2.namedWindow(\"image\")\n",
    "cv2.createTrackbar(\"blue\",\"image\",0,255,nothing)\n",
    "cv2.createTrackbar(\"green\",\"image\",0,255,nothing)\n",
    "cv2.createTrackbar(\"red\",\"image\",0,255,nothing)\n",
    "while(1):\n",
    "    cv2.imshow('image',im)\n",
    "    b=cv2.getTrackbarPos(\"blue\",\"image\")\n",
    "    g=cv2.getTrackbarPos(\"green\",\"image\")\n",
    "    r=cv2.getTrackbarPos(\"red\",\"image\")\n",
    "    im[:,:]=[b,g,r]\n",
    "    key=cv2.waitKey(1)\n",
    "    if key==27:\n",
    "        break\n",
    "cv2.destroyAllWindows()"
   ]
  }
 ],
 "metadata": {
  "kernelspec": {
   "display_name": "Python 3.10.6 64-bit (microsoft store)",
   "language": "python",
   "name": "python3"
  },
  "language_info": {
   "codemirror_mode": {
    "name": "ipython",
    "version": 3
   },
   "file_extension": ".py",
   "mimetype": "text/x-python",
   "name": "python",
   "nbconvert_exporter": "python",
   "pygments_lexer": "ipython3",
   "version": "3.12.1"
  },
  "orig_nbformat": 4,
  "vscode": {
   "interpreter": {
    "hash": "a8fce425ec04ce098889a7b456cfd25aeb22f7524c41fa0e52b84291bf9e447c"
   }
  }
 },
 "nbformat": 4,
 "nbformat_minor": 2
}
